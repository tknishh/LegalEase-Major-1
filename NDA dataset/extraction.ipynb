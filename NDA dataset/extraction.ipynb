{
 "cells": [
  {
   "cell_type": "code",
   "execution_count": 1,
   "metadata": {},
   "outputs": [],
   "source": [
    "import pandas as pd"
   ]
  },
  {
   "cell_type": "code",
   "execution_count": 4,
   "metadata": {},
   "outputs": [
    {
     "name": "stdout",
     "output_type": "stream",
     "text": [
      "                            agmt_name  \\\n",
      "0               Outsourcing Agreement   \n",
      "1                 SERVICING AGREEMENT   \n",
      "2         Yield Maintenance Agreement   \n",
      "3             JOINT VENTURE AGREEMENT   \n",
      "4  OPTION AGREEMENT FOR FUTURE SHARES   \n",
      "\n",
      "                                           Full_Text  \n",
      "0  1 EXHIBIT 10.14 OUTSOURCING AGREEMENT This Out...  \n",
      "1  Ex 10.3 SERVICING AGREEMENT between CURO RECEI...  \n",
      "2  EXHIBIT 10.3 Yield Maintenance Agreement [LOGO...  \n",
      "3  Exhibit 10.1 JOINT VENTURE AGREEMENT THIS JOIN...  \n",
      "4  DATED 4 DECEMBER 2020 INVESTOR LIMITED and INV...  \n"
     ]
    }
   ],
   "source": [
    "df = pd.read_csv(r\"./legal_agreement_data_file.csv\")\n",
    "print(df)"
   ]
  },
  {
   "cell_type": "code",
   "execution_count": 3,
   "metadata": {},
   "outputs": [
    {
     "name": "stdout",
     "output_type": "stream",
     "text": [
      "Collecting reportlab"
     ]
    },
    {
     "name": "stderr",
     "output_type": "stream",
     "text": [
      "\n",
      "[notice] A new release of pip is available: 23.1.2 -> 23.3.1\n",
      "[notice] To update, run: python.exe -m pip install --upgrade pip\n"
     ]
    },
    {
     "name": "stdout",
     "output_type": "stream",
     "text": [
      "\n",
      "  Downloading reportlab-4.0.6-py3-none-any.whl (1.9 MB)\n",
      "                                              0.0/1.9 MB ? eta -:--:--\n",
      "                                              0.0/1.9 MB ? eta -:--:--\n",
      "                                              0.0/1.9 MB ? eta -:--:--\n",
      "                                              0.0/1.9 MB 187.9 kB/s eta 0:00:11\n",
      "                                              0.0/1.9 MB 187.9 kB/s eta 0:00:11\n",
      "                                              0.0/1.9 MB 187.9 kB/s eta 0:00:11\n",
      "     -                                        0.1/1.9 MB 245.8 kB/s eta 0:00:08\n",
      "     -                                        0.1/1.9 MB 308.0 kB/s eta 0:00:06\n",
      "     -                                        0.1/1.9 MB 308.0 kB/s eta 0:00:06\n",
      "     ---                                      0.2/1.9 MB 382.3 kB/s eta 0:00:05\n",
      "     ---                                      0.2/1.9 MB 382.3 kB/s eta 0:00:05\n",
      "     ---                                      0.2/1.9 MB 382.3 kB/s eta 0:00:05\n",
      "     ----                                     0.2/1.9 MB 357.2 kB/s eta 0:00:05\n",
      "     ----                                     0.2/1.9 MB 411.8 kB/s eta 0:00:05\n",
      "     -----                                    0.3/1.9 MB 465.5 kB/s eta 0:00:04\n",
      "     -----                                    0.3/1.9 MB 465.5 kB/s eta 0:00:04\n",
      "     ------                                   0.3/1.9 MB 476.3 kB/s eta 0:00:04\n",
      "     --------                                 0.4/1.9 MB 572.0 kB/s eta 0:00:03\n",
      "     --------                                 0.4/1.9 MB 572.0 kB/s eta 0:00:03\n",
      "     --------                                 0.4/1.9 MB 572.0 kB/s eta 0:00:03\n",
      "     ---------                                0.5/1.9 MB 512.6 kB/s eta 0:00:03\n",
      "     ---------                                0.5/1.9 MB 519.9 kB/s eta 0:00:03\n",
      "     -----------                              0.5/1.9 MB 558.7 kB/s eta 0:00:03\n",
      "     -----------                              0.6/1.9 MB 572.4 kB/s eta 0:00:03\n",
      "     ------------                             0.6/1.9 MB 557.5 kB/s eta 0:00:03\n",
      "     ------------                             0.6/1.9 MB 557.5 kB/s eta 0:00:03\n",
      "     ------------                             0.6/1.9 MB 554.0 kB/s eta 0:00:03\n",
      "     --------------                           0.7/1.9 MB 584.6 kB/s eta 0:00:03\n",
      "     --------------                           0.7/1.9 MB 594.7 kB/s eta 0:00:03\n",
      "     ---------------                          0.7/1.9 MB 604.8 kB/s eta 0:00:02\n",
      "     ---------------                          0.7/1.9 MB 604.8 kB/s eta 0:00:02\n",
      "     ---------------                          0.7/1.9 MB 604.8 kB/s eta 0:00:02\n",
      "     ---------------                          0.8/1.9 MB 557.6 kB/s eta 0:00:03\n",
      "     -----------------                        0.8/1.9 MB 590.5 kB/s eta 0:00:02\n",
      "     ------------------                       0.9/1.9 MB 592.5 kB/s eta 0:00:02\n",
      "     ------------------                       0.9/1.9 MB 607.2 kB/s eta 0:00:02\n",
      "     ------------------                       0.9/1.9 MB 607.2 kB/s eta 0:00:02\n",
      "     -------------------                      0.9/1.9 MB 584.0 kB/s eta 0:00:02\n",
      "     --------------------                     1.0/1.9 MB 604.9 kB/s eta 0:00:02\n",
      "     ---------------------                    1.0/1.9 MB 618.6 kB/s eta 0:00:02\n",
      "     ----------------------                   1.1/1.9 MB 637.4 kB/s eta 0:00:02\n",
      "     ----------------------                   1.1/1.9 MB 637.4 kB/s eta 0:00:02\n",
      "     ----------------------                   1.1/1.9 MB 637.4 kB/s eta 0:00:02\n",
      "     -----------------------                  1.1/1.9 MB 616.4 kB/s eta 0:00:02\n",
      "     -------------------------                1.2/1.9 MB 644.4 kB/s eta 0:00:02\n",
      "     --------------------------               1.3/1.9 MB 655.3 kB/s eta 0:00:02\n",
      "     --------------------------               1.3/1.9 MB 655.2 kB/s eta 0:00:02\n",
      "     --------------------------               1.3/1.9 MB 640.0 kB/s eta 0:00:01\n",
      "     ----------------------------             1.4/1.9 MB 655.2 kB/s eta 0:00:01\n",
      "     -----------------------------            1.4/1.9 MB 679.8 kB/s eta 0:00:01\n",
      "     ------------------------------           1.5/1.9 MB 698.7 kB/s eta 0:00:01\n",
      "     ------------------------------           1.5/1.9 MB 698.7 kB/s eta 0:00:01\n",
      "     ------------------------------           1.5/1.9 MB 698.7 kB/s eta 0:00:01\n",
      "     -------------------------------          1.5/1.9 MB 673.3 kB/s eta 0:00:01\n",
      "     --------------------------------         1.6/1.9 MB 686.5 kB/s eta 0:00:01\n",
      "     ---------------------------------        1.6/1.9 MB 694.6 kB/s eta 0:00:01\n",
      "     ----------------------------------       1.7/1.9 MB 702.4 kB/s eta 0:00:01\n",
      "     -----------------------------------      1.7/1.9 MB 697.6 kB/s eta 0:00:01\n",
      "     -----------------------------------      1.7/1.9 MB 697.6 kB/s eta 0:00:01\n",
      "     -----------------------------------      1.7/1.9 MB 697.6 kB/s eta 0:00:01\n",
      "     -----------------------------------      1.7/1.9 MB 697.6 kB/s eta 0:00:01\n",
      "     -----------------------------------      1.7/1.9 MB 659.2 kB/s eta 0:00:01\n",
      "     -----------------------------------      1.7/1.9 MB 655.3 kB/s eta 0:00:01\n",
      "     ------------------------------------     1.8/1.9 MB 651.5 kB/s eta 0:00:01\n",
      "     ------------------------------------     1.8/1.9 MB 655.4 kB/s eta 0:00:01\n",
      "     -------------------------------------    1.8/1.9 MB 662.8 kB/s eta 0:00:01\n",
      "     --------------------------------------   1.9/1.9 MB 662.7 kB/s eta 0:00:01\n",
      "     ---------------------------------------  1.9/1.9 MB 666.2 kB/s eta 0:00:01\n",
      "     ---------------------------------------  1.9/1.9 MB 666.2 kB/s eta 0:00:01\n",
      "     ---------------------------------------  1.9/1.9 MB 666.2 kB/s eta 0:00:01\n",
      "     ---------------------------------------  1.9/1.9 MB 666.2 kB/s eta 0:00:01\n",
      "     ---------------------------------------  1.9/1.9 MB 641.7 kB/s eta 0:00:01\n",
      "     ---------------------------------------- 1.9/1.9 MB 636.6 kB/s eta 0:00:00\n",
      "Requirement already satisfied: pillow>=9.0.0 in c:\\users\\vani seth\\appdata\\local\\programs\\python\\python311\\lib\\site-packages (from reportlab) (9.4.0)\n",
      "Installing collected packages: reportlab\n",
      "Successfully installed reportlab-4.0.6\n"
     ]
    }
   ],
   "source": [
    "!pip install reportlab\n"
   ]
  },
  {
   "cell_type": "code",
   "execution_count": 7,
   "metadata": {},
   "outputs": [
    {
     "name": "stdout",
     "output_type": "stream",
     "text": [
      "Collecting pdfkit\n",
      "  Downloading pdfkit-1.0.0-py3-none-any.whl (12 kB)\n",
      "Installing collected packages: pdfkit\n",
      "Successfully installed pdfkit-1.0.0\n"
     ]
    },
    {
     "name": "stderr",
     "output_type": "stream",
     "text": [
      "\n",
      "[notice] A new release of pip is available: 23.1.2 -> 23.3.1\n",
      "[notice] To update, run: python.exe -m pip install --upgrade pip\n"
     ]
    }
   ],
   "source": [
    "!pip install pdfkit"
   ]
  },
  {
   "cell_type": "code",
   "execution_count": 1,
   "metadata": {},
   "outputs": [
    {
     "ename": "OSError",
     "evalue": "No wkhtmltopdf executable found: \"b''\"\nIf this file exists please check that this process can read it or you can pass path to it manually in method call, check README. Otherwise please install wkhtmltopdf - https://github.com/JazzCore/python-pdfkit/wiki/Installing-wkhtmltopdf",
     "output_type": "error",
     "traceback": [
      "\u001b[1;31m---------------------------------------------------------------------------\u001b[0m",
      "\u001b[1;31mFileNotFoundError\u001b[0m                         Traceback (most recent call last)",
      "File \u001b[1;32mc:\\Users\\VANI SETH\\AppData\\Local\\Programs\\Python\\Python311\\Lib\\site-packages\\pdfkit\\configuration.py:35\u001b[0m, in \u001b[0;36mConfiguration.__init__\u001b[1;34m(self, wkhtmltopdf, meta_tag_prefix, environ)\u001b[0m\n\u001b[0;32m     33\u001b[0m     \u001b[39mself\u001b[39m\u001b[39m.\u001b[39mwkhtmltopdf \u001b[39m=\u001b[39m lines[\u001b[39m0\u001b[39m]\u001b[39m.\u001b[39mstrip()\n\u001b[1;32m---> 35\u001b[0m \u001b[39mwith\u001b[39;00m \u001b[39mopen\u001b[39;49m(\u001b[39mself\u001b[39;49m\u001b[39m.\u001b[39;49mwkhtmltopdf) \u001b[39mas\u001b[39;00m f:\n\u001b[0;32m     36\u001b[0m     \u001b[39mpass\u001b[39;00m\n",
      "\u001b[1;31mFileNotFoundError\u001b[0m: [Errno 2] No such file or directory: b''",
      "\nDuring handling of the above exception, another exception occurred:\n",
      "\u001b[1;31mOSError\u001b[0m                                   Traceback (most recent call last)",
      "\u001b[1;32me:\\LegalEase\\NDA dataset\\extraction.ipynb Cell 5\u001b[0m line \u001b[0;36m1\n\u001b[0;32m     <a href='vscode-notebook-cell:/e%3A/LegalEase/NDA%20dataset/extraction.ipynb#W4sZmlsZQ%3D%3D?line=11'>12</a>\u001b[0m html_table \u001b[39m=\u001b[39m data\u001b[39m.\u001b[39mto_html(index\u001b[39m=\u001b[39m\u001b[39mFalse\u001b[39;00m)\n\u001b[0;32m     <a href='vscode-notebook-cell:/e%3A/LegalEase/NDA%20dataset/extraction.ipynb#W4sZmlsZQ%3D%3D?line=13'>14</a>\u001b[0m \u001b[39m# Generate the PDF from the HTML table\u001b[39;00m\n\u001b[1;32m---> <a href='vscode-notebook-cell:/e%3A/LegalEase/NDA%20dataset/extraction.ipynb#W4sZmlsZQ%3D%3D?line=14'>15</a>\u001b[0m pdfkit\u001b[39m.\u001b[39;49mfrom_string(html_table, output_pdf_file)\n\u001b[0;32m     <a href='vscode-notebook-cell:/e%3A/LegalEase/NDA%20dataset/extraction.ipynb#W4sZmlsZQ%3D%3D?line=16'>17</a>\u001b[0m \u001b[39mprint\u001b[39m(\u001b[39mf\u001b[39m\u001b[39m\"\u001b[39m\u001b[39mPDF file \u001b[39m\u001b[39m'\u001b[39m\u001b[39m{\u001b[39;00moutput_pdf_file\u001b[39m}\u001b[39;00m\u001b[39m'\u001b[39m\u001b[39m has been created.\u001b[39m\u001b[39m\"\u001b[39m)\n",
      "File \u001b[1;32mc:\\Users\\VANI SETH\\AppData\\Local\\Programs\\Python\\Python311\\Lib\\site-packages\\pdfkit\\api.py:72\u001b[0m, in \u001b[0;36mfrom_string\u001b[1;34m(input, output_path, options, toc, cover, css, configuration, cover_first, verbose)\u001b[0m\n\u001b[0;32m     54\u001b[0m \u001b[39mdef\u001b[39;00m \u001b[39mfrom_string\u001b[39m(\u001b[39minput\u001b[39m, output_path\u001b[39m=\u001b[39m\u001b[39mNone\u001b[39;00m, options\u001b[39m=\u001b[39m\u001b[39mNone\u001b[39;00m, toc\u001b[39m=\u001b[39m\u001b[39mNone\u001b[39;00m, cover\u001b[39m=\u001b[39m\u001b[39mNone\u001b[39;00m, css\u001b[39m=\u001b[39m\u001b[39mNone\u001b[39;00m,\n\u001b[0;32m     55\u001b[0m                 configuration\u001b[39m=\u001b[39m\u001b[39mNone\u001b[39;00m, cover_first\u001b[39m=\u001b[39m\u001b[39mFalse\u001b[39;00m, verbose\u001b[39m=\u001b[39m\u001b[39mFalse\u001b[39;00m):\n\u001b[0;32m     56\u001b[0m     \u001b[39m\"\"\"\u001b[39;00m\n\u001b[0;32m     57\u001b[0m \u001b[39m    Convert given string or strings to PDF document\u001b[39;00m\n\u001b[0;32m     58\u001b[0m \n\u001b[1;32m   (...)\u001b[0m\n\u001b[0;32m     69\u001b[0m \u001b[39m    Returns: True on success\u001b[39;00m\n\u001b[0;32m     70\u001b[0m \u001b[39m    \"\"\"\u001b[39;00m\n\u001b[1;32m---> 72\u001b[0m     r \u001b[39m=\u001b[39m PDFKit(\u001b[39minput\u001b[39;49m, \u001b[39m'\u001b[39;49m\u001b[39mstring\u001b[39;49m\u001b[39m'\u001b[39;49m, options\u001b[39m=\u001b[39;49moptions, toc\u001b[39m=\u001b[39;49mtoc, cover\u001b[39m=\u001b[39;49mcover, css\u001b[39m=\u001b[39;49mcss,\n\u001b[0;32m     73\u001b[0m                configuration\u001b[39m=\u001b[39;49mconfiguration, cover_first\u001b[39m=\u001b[39;49mcover_first, verbose\u001b[39m=\u001b[39;49mverbose)\n\u001b[0;32m     75\u001b[0m     \u001b[39mreturn\u001b[39;00m r\u001b[39m.\u001b[39mto_pdf(output_path)\n",
      "File \u001b[1;32mc:\\Users\\VANI SETH\\AppData\\Local\\Programs\\Python\\Python311\\Lib\\site-packages\\pdfkit\\pdfkit.py:45\u001b[0m, in \u001b[0;36mPDFKit.__init__\u001b[1;34m(self, url_or_file, type_, options, toc, cover, css, configuration, cover_first, verbose)\u001b[0m\n\u001b[0;32m     41\u001b[0m \u001b[39mdef\u001b[39;00m \u001b[39m__init__\u001b[39m(\u001b[39mself\u001b[39m, url_or_file, type_, options\u001b[39m=\u001b[39m\u001b[39mNone\u001b[39;00m, toc\u001b[39m=\u001b[39m\u001b[39mNone\u001b[39;00m, cover\u001b[39m=\u001b[39m\u001b[39mNone\u001b[39;00m,\n\u001b[0;32m     42\u001b[0m              css\u001b[39m=\u001b[39m\u001b[39mNone\u001b[39;00m, configuration\u001b[39m=\u001b[39m\u001b[39mNone\u001b[39;00m, cover_first\u001b[39m=\u001b[39m\u001b[39mFalse\u001b[39;00m, verbose\u001b[39m=\u001b[39m\u001b[39mFalse\u001b[39;00m):\n\u001b[0;32m     44\u001b[0m     \u001b[39mself\u001b[39m\u001b[39m.\u001b[39msource \u001b[39m=\u001b[39m Source(url_or_file, type_)\n\u001b[1;32m---> 45\u001b[0m     \u001b[39mself\u001b[39m\u001b[39m.\u001b[39mconfiguration \u001b[39m=\u001b[39m (Configuration() \u001b[39mif\u001b[39;00m configuration \u001b[39mis\u001b[39;00m \u001b[39mNone\u001b[39;00m\n\u001b[0;32m     46\u001b[0m                           \u001b[39melse\u001b[39;00m configuration)\n\u001b[0;32m     47\u001b[0m     \u001b[39mtry\u001b[39;00m:\n\u001b[0;32m     48\u001b[0m         \u001b[39mself\u001b[39m\u001b[39m.\u001b[39mwkhtmltopdf \u001b[39m=\u001b[39m \u001b[39mself\u001b[39m\u001b[39m.\u001b[39mconfiguration\u001b[39m.\u001b[39mwkhtmltopdf\u001b[39m.\u001b[39mdecode(\u001b[39m'\u001b[39m\u001b[39mutf-8\u001b[39m\u001b[39m'\u001b[39m)\n",
      "File \u001b[1;32mc:\\Users\\VANI SETH\\AppData\\Local\\Programs\\Python\\Python311\\Lib\\site-packages\\pdfkit\\configuration.py:38\u001b[0m, in \u001b[0;36mConfiguration.__init__\u001b[1;34m(self, wkhtmltopdf, meta_tag_prefix, environ)\u001b[0m\n\u001b[0;32m     36\u001b[0m         \u001b[39mpass\u001b[39;00m\n\u001b[0;32m     37\u001b[0m \u001b[39mexcept\u001b[39;00m (\u001b[39mIOError\u001b[39;00m, \u001b[39mFileNotFoundError\u001b[39;00m) \u001b[39mas\u001b[39;00m e:\n\u001b[1;32m---> 38\u001b[0m     \u001b[39mraise\u001b[39;00m \u001b[39mIOError\u001b[39;00m(\u001b[39m'\u001b[39m\u001b[39mNo wkhtmltopdf executable found: \u001b[39m\u001b[39m\"\u001b[39m\u001b[39m%s\u001b[39;00m\u001b[39m\"\u001b[39m\u001b[39m\\n\u001b[39;00m\u001b[39m'\u001b[39m\n\u001b[0;32m     39\u001b[0m                   \u001b[39m'\u001b[39m\u001b[39mIf this file exists please check that this process can \u001b[39m\u001b[39m'\u001b[39m\n\u001b[0;32m     40\u001b[0m                   \u001b[39m'\u001b[39m\u001b[39mread it or you can pass path to it manually in method call, \u001b[39m\u001b[39m'\u001b[39m\n\u001b[0;32m     41\u001b[0m                   \u001b[39m'\u001b[39m\u001b[39mcheck README. Otherwise please install wkhtmltopdf - \u001b[39m\u001b[39m'\u001b[39m\n\u001b[0;32m     42\u001b[0m                   \u001b[39m'\u001b[39m\u001b[39mhttps://github.com/JazzCore/python-pdfkit/wiki/Installing-wkhtmltopdf\u001b[39m\u001b[39m'\u001b[39m \u001b[39m%\u001b[39m \u001b[39mself\u001b[39m\u001b[39m.\u001b[39mwkhtmltopdf)\n\u001b[0;32m     45\u001b[0m \u001b[39mself\u001b[39m\u001b[39m.\u001b[39menviron \u001b[39m=\u001b[39m environ\n\u001b[0;32m     47\u001b[0m \u001b[39mif\u001b[39;00m \u001b[39mnot\u001b[39;00m \u001b[39mself\u001b[39m\u001b[39m.\u001b[39menviron:\n",
      "\u001b[1;31mOSError\u001b[0m: No wkhtmltopdf executable found: \"b''\"\nIf this file exists please check that this process can read it or you can pass path to it manually in method call, check README. Otherwise please install wkhtmltopdf - https://github.com/JazzCore/python-pdfkit/wiki/Installing-wkhtmltopdf"
     ]
    }
   ],
   "source": [
    "import pdfkit\n",
    "import pandas as pd\n",
    "\n",
    "# Input CSV file and output PDF file names\n",
    "input_csv_file = './legal_agreement_data_file.csv'\n",
    "output_pdf_file = 'output.pdf'\n",
    "\n",
    "# Read the CSV data using pandas\n",
    "data = pd.read_csv(input_csv_file)\n",
    "\n",
    "# Convert the CSV data to an HTML table\n",
    "html_table = data.to_html(index=False)\n",
    "\n",
    "# Generate the PDF from the HTML table\n",
    "pdfkit.from_string(html_table, output_pdf_file)\n",
    "\n",
    "print(f\"PDF file '{output_pdf_file}' has been created.\")\n"
   ]
  },
  {
   "cell_type": "code",
   "execution_count": null,
   "metadata": {},
   "outputs": [],
   "source": []
  }
 ],
 "metadata": {
  "kernelspec": {
   "display_name": "Python 3",
   "language": "python",
   "name": "python3"
  },
  "language_info": {
   "codemirror_mode": {
    "name": "ipython",
    "version": 3
   },
   "file_extension": ".py",
   "mimetype": "text/x-python",
   "name": "python",
   "nbconvert_exporter": "python",
   "pygments_lexer": "ipython3",
   "version": "3.11.1"
  },
  "orig_nbformat": 4
 },
 "nbformat": 4,
 "nbformat_minor": 2
}
